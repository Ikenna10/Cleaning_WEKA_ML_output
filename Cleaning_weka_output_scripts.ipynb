{
 "cells": [
  {
   "cell_type": "markdown",
   "id": "bb71d5a2-be7a-4e06-b232-8447e89316b3",
   "metadata": {},
   "source": [
    "### Cleaning txt file and Plotting datasets"
   ]
  },
  {
   "cell_type": "code",
   "execution_count": 5,
   "id": "cb5df746-416f-4c06-9aef-61d8a18f42cb",
   "metadata": {
    "tags": []
   },
   "outputs": [
    {
     "name": "stdout",
     "output_type": "stream",
     "text": [
      "=== Run information ===\n",
      "\n",
      "Scheme:       weka.classifiers.functions.MultilayerPerceptron -L 0.3 -M 0.2 -N 500 -V 0 -S 0 -E 20 -H a\n",
      "\"Relation:     ML-ENUGU-Ta-weka.filters.unsupervised.instance.Resample-S1-Z70.0-no-replacement-weka.filters.unsupervised.attribute.Remove-R1,7\"\n",
      "Instances:    8769\n",
      "Attributes:   6\n",
      "Max Temp\n",
      "Min Temp\n",
      "Solar Rad\n",
      "Wind\n",
      "RH\n",
      "ETo\n",
      "Test mode:    evaluate on training data\n",
      "\n",
      "=== Classifier model (full training set) ===\n",
      "\n",
      "Linear Node 0\n",
      "Inputs    Weights\n",
      "Threshold    1.2663983420328755\n",
      "Node 1    -2.5770949953639173\n",
      "Node 2    1.14424569755722\n",
      "Node 3    -1.4905091100905024\n",
      "Sigmoid Node 1\n",
      "Inputs    Weights\n",
      "Threshold    -0.18606485476197207\n",
      "Attrib Max Temp    -0.21233213900500508\n",
      "Attrib Min Temp    -0.12027432700153837\n",
      "Attrib  Solar Rad    -0.9997206824885223\n",
      "Attrib Wind    0.19401554423525522\n",
      "Attrib RH    0.6884295633073487\n",
      "Sigmoid Node 2\n",
      "Inputs    Weights\n",
      "Threshold    -1.3211360004731583\n",
      "Attrib Max Temp    0.8904617413470095\n",
      "Attrib Min Temp    -0.09870673395151533\n",
      "Attrib  Solar Rad    -0.3812787179711744\n",
      "Attrib Wind    0.715767381681667\n",
      "Attrib RH    -2.158998427858698\n",
      "Sigmoid Node 3\n",
      "Inputs    Weights\n",
      "Threshold    -0.9172856187695394\n",
      "Attrib Max Temp    0.21449299827001353\n",
      "Attrib Min Temp    -0.25010409333022676\n",
      "Attrib  Solar Rad    -0.4750547684686112\n",
      "Attrib Wind    -0.8922454490746307\n",
      "Attrib RH    -1.4876645353044957\n",
      "Class\n",
      "Input\n",
      "Node 0\n",
      "\n"
     ]
    }
   ],
   "source": [
    "# Load the text file and inspect its content to understand the structure\n",
    "file_path = 'training-ANN.txt'\n",
    "\n",
    "# Read the file\n",
    "with open(file_path, 'r') as file:\n",
    "    content = file.readlines()\n",
    "\n",
    "# Display the first 50 lines to understand the structure\n",
    "for line in content[:50]:\n",
    "    print(line.strip())"
   ]
  },
  {
   "cell_type": "code",
   "execution_count": 6,
   "id": "9ba170cc-f16b-4a0b-862c-abf1efe43105",
   "metadata": {
    "tags": []
   },
   "outputs": [],
   "source": [
    "# Find where predictions start and end, skipping evaluation metrics\n",
    "start_idx = None\n",
    "end_idx = None\n",
    "data = []\n",
    "\n",
    "with open(file_path, 'r') as file:\n",
    "    lines = file.readlines()\n",
    "    for i, line in enumerate(lines):\n",
    "        if '=== Predictions on training set ===' in line:\n",
    "            start_idx = i + 1\n",
    "        elif '=== Evaluation on training set ===' in line:\n",
    "            end_idx = i\n",
    "            break\n",
    "    \n",
    "    if start_idx and end_idx:\n",
    "        # Skip the header line after the marker\n",
    "        start_idx += 1\n",
    "        \n",
    "        # Process only the prediction lines before evaluation metrics\n",
    "        for line in lines[start_idx:end_idx]:\n",
    "            # Skip empty lines\n",
    "            if line.strip() == '':\n",
    "                continue\n",
    "            \n",
    "            # Split the line and clean the data\n",
    "            parts = line.strip().split()\n",
    "            if len(parts) >= 4:  # Ensure we have all required columns\n",
    "                inst = parts[0]\n",
    "                actual = parts[1]\n",
    "                predicted = parts[2]\n",
    "                error = parts[3]\n",
    "                data.append([inst, actual, predicted, error])"
   ]
  },
  {
   "cell_type": "code",
   "execution_count": 8,
   "id": "43c3ccfb-8d17-49d7-a7cf-2fb7b98c7e4e",
   "metadata": {
    "tags": []
   },
   "outputs": [
    {
     "data": {
      "text/plain": [
       "[['inst#', 'actual', 'predicted', 'error'],\n",
       " ['1', '3.63', '3.524', '-0.106'],\n",
       " ['2', '2.26', '2.108', '-0.152'],\n",
       " ['3', '3.8', '3.809', '0.009'],\n",
       " ['4', '4.58', '4.427', '-0.153'],\n",
       " ['5', '3.55', '3.448', '-0.102'],\n",
       " ['6', '4.32', '4.268', '-0.052'],\n",
       " ['7', '4.14', '4.061', '-0.079'],\n",
       " ['8', '2.78', '2.646', '-0.134'],\n",
       " ['9', '3.71', '3.642', '-0.068']]"
      ]
     },
     "execution_count": 8,
     "metadata": {},
     "output_type": "execute_result"
    }
   ],
   "source": [
    "# slice the first 9 entry to ensure conversion was good\n",
    "\n",
    "data[0:10] "
   ]
  },
  {
   "cell_type": "code",
   "execution_count": 9,
   "id": "8b5b4ba3-8ca8-47e7-a992-4f844e272f25",
   "metadata": {
    "tags": []
   },
   "outputs": [
    {
     "name": "stdout",
     "output_type": "stream",
     "text": [
      "First few rows:\n",
      "   inst#  actual  predicted   error\n",
      "0  inst#  actual  predicted   error\n",
      "1      1    3.63      3.524  -0.106\n",
      "2      2    2.26      2.108  -0.152\n",
      "3      3     3.8      3.809   0.009\n",
      "4      4    4.58      4.427  -0.153\n",
      "Total number of predictions: 8770\n"
     ]
    }
   ],
   "source": [
    "# Create DataFrame and write to csv\n",
    "import pandas as pd\n",
    "df = pd.DataFrame(data, columns=['inst#', 'actual', 'predicted', 'error'])\n",
    "\n",
    "# Save as CSV\n",
    "df.to_csv('ANN_predictions_clean.csv', index=False)\n",
    "\n",
    "# Display first few rows and total number of rows\n",
    "print(\"First few rows:\")\n",
    "print(df.head())\n",
    "print(\"\\\n",
    "Total number of predictions:\", len(df))"
   ]
  },
  {
   "cell_type": "code",
   "execution_count": 11,
   "id": "cb304124-6ec2-43e7-ac66-bbbf55188638",
   "metadata": {
    "tags": []
   },
   "outputs": [
    {
     "data": {
      "text/html": [
       "<div>\n",
       "<style scoped>\n",
       "    .dataframe tbody tr th:only-of-type {\n",
       "        vertical-align: middle;\n",
       "    }\n",
       "\n",
       "    .dataframe tbody tr th {\n",
       "        vertical-align: top;\n",
       "    }\n",
       "\n",
       "    .dataframe thead th {\n",
       "        text-align: right;\n",
       "    }\n",
       "</style>\n",
       "<table border=\"1\" class=\"dataframe\">\n",
       "  <thead>\n",
       "    <tr style=\"text-align: right;\">\n",
       "      <th></th>\n",
       "      <th>inst#</th>\n",
       "      <th>actual</th>\n",
       "      <th>predicted</th>\n",
       "      <th>error</th>\n",
       "    </tr>\n",
       "  </thead>\n",
       "  <tbody>\n",
       "    <tr>\n",
       "      <th>0</th>\n",
       "      <td>1</td>\n",
       "      <td>3.63</td>\n",
       "      <td>3.524</td>\n",
       "      <td>-0.106</td>\n",
       "    </tr>\n",
       "    <tr>\n",
       "      <th>1</th>\n",
       "      <td>2</td>\n",
       "      <td>2.26</td>\n",
       "      <td>2.108</td>\n",
       "      <td>-0.152</td>\n",
       "    </tr>\n",
       "    <tr>\n",
       "      <th>2</th>\n",
       "      <td>3</td>\n",
       "      <td>3.80</td>\n",
       "      <td>3.809</td>\n",
       "      <td>0.009</td>\n",
       "    </tr>\n",
       "    <tr>\n",
       "      <th>3</th>\n",
       "      <td>4</td>\n",
       "      <td>4.58</td>\n",
       "      <td>4.427</td>\n",
       "      <td>-0.153</td>\n",
       "    </tr>\n",
       "    <tr>\n",
       "      <th>4</th>\n",
       "      <td>5</td>\n",
       "      <td>3.55</td>\n",
       "      <td>3.448</td>\n",
       "      <td>-0.102</td>\n",
       "    </tr>\n",
       "  </tbody>\n",
       "</table>\n",
       "</div>"
      ],
      "text/plain": [
       "   inst#  actual  predicted  error\n",
       "0      1    3.63      3.524 -0.106\n",
       "1      2    2.26      2.108 -0.152\n",
       "2      3    3.80      3.809  0.009\n",
       "3      4    4.58      4.427 -0.153\n",
       "4      5    3.55      3.448 -0.102"
      ]
     },
     "execution_count": 11,
     "metadata": {},
     "output_type": "execute_result"
    }
   ],
   "source": [
    "# adding cleaning - see that we additional row name. read the csv abd clean it up\n",
    "df = pd.read_csv(\"ANN_predictions_clean.csv\", skiprows=1)\n",
    "df.head()"
   ]
  },
  {
   "cell_type": "code",
   "execution_count": 12,
   "id": "35e8219a-6961-432c-a8f4-0851a7d90e2b",
   "metadata": {
    "tags": []
   },
   "outputs": [],
   "source": [
    "## Rewrite the data for final cleaning\n",
    "# Save as CSV\n",
    "df.to_csv('ANN_predictions_clean_updated.csv', index=False)"
   ]
  },
  {
   "cell_type": "code",
   "execution_count": 13,
   "id": "f715f11f-0483-42e0-9afe-f087be90a4fa",
   "metadata": {
    "tags": []
   },
   "outputs": [],
   "source": [
    "# plot stuff\n",
    "import matplotlib.pyplot as plt\n"
   ]
  },
  {
   "cell_type": "code",
   "execution_count": 14,
   "id": "ebf975e3-b674-4b84-9131-9d57fcf520fe",
   "metadata": {
    "tags": []
   },
   "outputs": [
    {
     "data": {
      "text/html": [
       "<div>\n",
       "<style scoped>\n",
       "    .dataframe tbody tr th:only-of-type {\n",
       "        vertical-align: middle;\n",
       "    }\n",
       "\n",
       "    .dataframe tbody tr th {\n",
       "        vertical-align: top;\n",
       "    }\n",
       "\n",
       "    .dataframe thead th {\n",
       "        text-align: right;\n",
       "    }\n",
       "</style>\n",
       "<table border=\"1\" class=\"dataframe\">\n",
       "  <thead>\n",
       "    <tr style=\"text-align: right;\">\n",
       "      <th></th>\n",
       "      <th>inst#</th>\n",
       "      <th>actual</th>\n",
       "      <th>predicted</th>\n",
       "      <th>error</th>\n",
       "    </tr>\n",
       "  </thead>\n",
       "  <tbody>\n",
       "    <tr>\n",
       "      <th>0</th>\n",
       "      <td>1</td>\n",
       "      <td>3.63</td>\n",
       "      <td>3.524</td>\n",
       "      <td>-0.106</td>\n",
       "    </tr>\n",
       "    <tr>\n",
       "      <th>1</th>\n",
       "      <td>2</td>\n",
       "      <td>2.26</td>\n",
       "      <td>2.108</td>\n",
       "      <td>-0.152</td>\n",
       "    </tr>\n",
       "    <tr>\n",
       "      <th>2</th>\n",
       "      <td>3</td>\n",
       "      <td>3.80</td>\n",
       "      <td>3.809</td>\n",
       "      <td>0.009</td>\n",
       "    </tr>\n",
       "    <tr>\n",
       "      <th>3</th>\n",
       "      <td>4</td>\n",
       "      <td>4.58</td>\n",
       "      <td>4.427</td>\n",
       "      <td>-0.153</td>\n",
       "    </tr>\n",
       "    <tr>\n",
       "      <th>4</th>\n",
       "      <td>5</td>\n",
       "      <td>3.55</td>\n",
       "      <td>3.448</td>\n",
       "      <td>-0.102</td>\n",
       "    </tr>\n",
       "  </tbody>\n",
       "</table>\n",
       "</div>"
      ],
      "text/plain": [
       "   inst#  actual  predicted  error\n",
       "0      1    3.63      3.524 -0.106\n",
       "1      2    2.26      2.108 -0.152\n",
       "2      3    3.80      3.809  0.009\n",
       "3      4    4.58      4.427 -0.153\n",
       "4      5    3.55      3.448 -0.102"
      ]
     },
     "execution_count": 14,
     "metadata": {},
     "output_type": "execute_result"
    }
   ],
   "source": [
    "# read csv\n",
    "\n",
    "df_data = pd.read_csv(\"ANN_predictions_clean_updated.csv\")\n",
    "df_data.head()"
   ]
  },
  {
   "cell_type": "code",
   "execution_count": 49,
   "id": "67cf1c79-c93b-445b-8671-9c320250bf51",
   "metadata": {
    "tags": []
   },
   "outputs": [
    {
     "data": {
      "image/png": "[encoded data removed]",
      "text/plain": [
       "<Figure size 600x600 with 1 Axes>"
      ]
     },
     "metadata": {},
     "output_type": "display_data"
    }
   ],
   "source": [
    "# Plot the data\n",
    "plt.figure(figsize=(6, 6))\n",
    "\n",
    "plt.scatter(df_data[\"predicted\"],df_data[\"actual\"], c=\"purple\", alpha=0.15)\n",
    "plt.xlabel(\"Predicted ET (mm/day)\", fontsize=14)\n",
    "plt.ylabel(\"Observed ET (mm/day)\", fontsize=14)\n",
    "plt.xlim(0,7)\n",
    "plt.ylim(0,7)\n",
    "plt.xticks(fontsize=12)\n",
    "plt.yticks(fontsize=12)\n",
    "\n",
    "plt.plot([0,7], [0,7], c='r', linestyle=\"--\")\n",
    "plt.savefig(\"ET_plot.jpg\", dpi=600, facecolor=\"none\", bbox_inches=\"tight\")\n",
    "plt.show()"
   ]
  }
 ],
 "metadata": {
  "kernelspec": {
   "display_name": "Python 3 (ipykernel)",
   "language": "python",
   "name": "python3"
  },
  "language_info": {
   "codemirror_mode": {
    "name": "ipython",
    "version": 3
   },
   "file_extension": ".py",
   "mimetype": "text/x-python",
   "name": "python",
   "nbconvert_exporter": "python",
   "pygments_lexer": "ipython3",
   "version": "3.9.16"
  }
 },
 "nbformat": 4,
 "nbformat_minor": 5
}
